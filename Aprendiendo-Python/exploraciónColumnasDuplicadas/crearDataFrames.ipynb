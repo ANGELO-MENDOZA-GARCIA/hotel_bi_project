{
 "cells": [
  {
   "cell_type": "code",
   "execution_count": 20,
   "id": "ae6b62ad",
   "metadata": {},
   "outputs": [],
   "source": [
    "# Importar .xlsx\n",
    "import pandas as pd\n",
    "def importar_xlsx(archivo):\n",
    "    \"\"\"\n",
    "    Importa un archivo .xlsx y devuelve un DataFrame de pandas.\n",
    "    \n",
    "    :param archivo: Ruta al archivo .xlsx\n",
    "    :return: DataFrame de pandas con los datos del archivo\n",
    "    \"\"\"\n",
    "    try:\n",
    "        df = pd.read_excel(archivo)\n",
    "        return df\n",
    "    except Exception as e:\n",
    "        print(f\"Error al importar el archivo: {e}\")\n",
    "        return None\n",
    "\n"
   ]
  },
  {
   "cell_type": "code",
   "execution_count": 21,
   "id": "0e72103e",
   "metadata": {},
   "outputs": [
    {
     "name": "stdout",
     "output_type": "stream",
     "text": [
      "FC_FOLIOS importado correctamente.\n",
      "RS_LINFOL importado correctamente.\n",
      "RS_PROLIN importado correctamente.\n",
      "Tamaño de FC_FOLIOS: (1000, 110)\n",
      "Tamaño de RS_LINFOL: (1000, 119)\n",
      "Tamaño de RS_PROLIN: (1000, 61)\n"
     ]
    }
   ],
   "source": [
    "fc_folios = importar_xlsx('FC_FOLIOS.xlsx')\n",
    "rs_linfol = importar_xlsx('RS_LINFOL.xlsx')\n",
    "rs_prolin = importar_xlsx('RS_PROLIN.xlsx')\n",
    "# Verificar si los DataFrames se importaron correctamente\n",
    "if fc_folios is not None:\n",
    "    print(\"FC_FOLIOS importado correctamente.\")\n",
    "if rs_linfol is not None:\n",
    "    print(\"RS_LINFOL importado correctamente.\")\n",
    "if rs_prolin is not None:\n",
    "    print(\"RS_PROLIN importado correctamente.\")\n",
    "# Mostrar los tamaños de los DataFrames\n",
    "print(f\"Tamaño de FC_FOLIOS: {fc_folios.shape}\")\n",
    "print(f\"Tamaño de RS_LINFOL: {rs_linfol.shape}\")\n",
    "print(f\"Tamaño de RS_PROLIN: {rs_prolin.shape}\")"
   ]
  },
  {
   "cell_type": "markdown",
   "id": "a202f24b",
   "metadata": {},
   "source": [
    "# Análisis Crítico\n",
    "\n",
    "En este documento se presenta una exploración inicial de las tablas `fc_folios`, `rs_linfol` y `rs_prolin`, con el objetivo de identificar y comprender el propósito de las columnas que aparentan estar duplicadas. Esta observación se basa en la detección de nombres de columna que comparten una raíz común y que se diferencian únicamente por un sufijo numérico precedido por un punto, tal como se muestra en los siguientes ejemplos:\n",
    "\n",
    "- Hotel  \n",
    "- Hotel.1  \n",
    "- Hotel.2  \n",
    "- Moneda  \n",
    "- Moneda.1\n",
    "\n",
    "Este patrón sugiere una posible duplicación automática de nombres por parte de la herramienta de procesamiento (posiblemente `pandas`) al momento de cargar o combinar datos provenientes de SAP FIORI.\n",
    "\n",
    "## Método\n",
    "\n",
    "Se desarrollará un proceso automatizado para detectar columnas duplicadas basadas en su nombre. La lógica de detección considerará columnas que comparten el mismo prefijo y se diferencian únicamente por un sufijo del tipo `.n`, donde `n` es un número entero.\n",
    "\n",
    "Para cada conjunto de columnas detectadas como duplicadas, se generará un DataFrame con los datos correspondientes y se exportará a un archivo Excel independiente. Por ejemplo:\n",
    "\n",
    "- `Hotel.xlsx` contendrá las columnas `Hotel`, `Hotel.1`, `Hotel.2` con sus respectivas filas.\n",
    "- `Moneda.xlsx` incluirá `Moneda` y `Moneda.1`.\n",
    "- Si no existen duplicados de una columna, no se generará ningún archivo.\n",
    "\n",
    "Este método tiene como finalidad documentar visualmente los patrones de duplicación y facilitar su análisis posterior.\n",
    "\n",
    "## Objetivo Principal\n",
    "\n",
    "Determinar si es viable eliminar columnas duplicadas en los archivos exportados desde SAP FIORI, sin comprometer la integridad o completitud de la información. Esto permitiría simplificar las tablas, reducir redundancia y facilitar el análisis automatizado de reservas de hoteles y comercializadoras.\n",
    "\n",
    "## Paso 1: Identificación de Columnas con Sufijos Numéricos\n",
    "\n",
    "El primer paso consiste en identificar columnas cuyos nombres siguen el patrón `nombre`, `nombre.1`, `nombre.2`, etc. Esta decisión nace de una observación empírica al inspeccionar manualmente los DataFrames generados en Python. Se desconoce si dicho comportamiento es generado por `pandas` al importar archivos con encabezados repetidos o por algún proceso previo en la exportación desde SAP.\n",
    "\n",
    "Aunque esta hipótesis se basa en la experiencia directa, será verificada y sistematizada mediante el proceso de análisis propuesto.\n",
    "\n",
    "---\n",
    "\n",
    "## Aspectos a Profundizar Más Adelante (Sugerencias)\n",
    "\n",
    "- Comparación de contenido entre las columnas duplicadas: ¿son idénticas, complementarias o contienen datos diferentes?\n",
    "- Indagar si el problema ocurre durante la exportación desde SAP o al cargar el archivo con `pandas`.\n",
    "- Documentar los hallazgos con capturas de pantalla o gráficos que ayuden a visualizar mejor las columnas repetidas y su contenido.\n",
    "- Evaluar el impacto de eliminar columnas en el análisis posterior: ¿se pierde información útil?\n",
    "\n"
   ]
  },
  {
   "cell_type": "markdown",
   "id": "c119ce3c",
   "metadata": {},
   "source": [
    "# Exportación de columnas duplicadas"
   ]
  },
  {
   "cell_type": "code",
   "execution_count": 22,
   "id": "0ffa7ad2",
   "metadata": {},
   "outputs": [],
   "source": [
    "import os\n",
    "import pandas as pd\n",
    "\n",
    "def exportar_columnas_duplicadas(df, nombre_tabla, carpeta_salida=\"ColumnasDuplicadas\"):\n",
    "    \"\"\"\n",
    "    Detecta grupos de columnas duplicadas (por nombre base) y exporta un archivo .xlsx por grupo.\n",
    "    \n",
    "    :param df: DataFrame a analizar\n",
    "    :param nombre_tabla: Nombre de la tabla (para nombrar archivos)\n",
    "    :param carpeta_salida: Carpeta donde se guardarán los archivos .xlsx\n",
    "    \"\"\"\n",
    "\n",
    "    # Crear carpeta si no existe\n",
    "    if not os.path.exists(carpeta_salida):\n",
    "        os.makedirs(carpeta_salida)\n",
    "\n",
    "    # Contenedor de columnas por nombre base\n",
    "    columnas_por_base = {}\n",
    "\n",
    "    for col in df.columns:\n",
    "        # Separamos por punto: \"Hotel.1\" → [\"Hotel\", \"1\"]\n",
    "        base = col.split('.')[0]\n",
    "        if base not in columnas_por_base:\n",
    "            columnas_por_base[base] = [col]\n",
    "        else:\n",
    "            columnas_por_base[base].append(col)\n",
    "\n",
    "    # Exportar solo los grupos con más de una columna (es decir, duplicados)\n",
    "    for base, cols in columnas_por_base.items():\n",
    "        if len(cols) > 1:\n",
    "            df_grupo = df[cols]\n",
    "            nombre_archivo = f\"{nombre_tabla}_{base}.xlsx\"\n",
    "            ruta = os.path.join(carpeta_salida, nombre_archivo)\n",
    "            df_grupo.to_excel(ruta, index=False)\n",
    "            print(f\"Exportado: {ruta}\")"
   ]
  },
  {
   "cell_type": "code",
   "execution_count": 23,
   "id": "40601cc1",
   "metadata": {},
   "outputs": [
    {
     "name": "stdout",
     "output_type": "stream",
     "text": [
      "Exportado: ColumnasDuplicadas/FC_FOLIOS_Indicador impuestos.xlsx\n",
      "Exportado: ColumnasDuplicadas/FC_FOLIOS_Número de Documento Comercial.xlsx\n",
      "Exportado: ColumnasDuplicadas/FC_FOLIOS_Impuestos incluidos.xlsx\n",
      "Exportado: ColumnasDuplicadas/FC_FOLIOS_Se ha cambiado la descripción.xlsx\n",
      "Exportado: ColumnasDuplicadas/FC_FOLIOS_Clasificación fiscal.xlsx\n",
      "Exportado: ColumnasDuplicadas/RS_LINFOL_Posición.xlsx\n",
      "Exportado: ColumnasDuplicadas/RS_LINFOL_Base imponible.xlsx\n",
      "Exportado: ColumnasDuplicadas/RS_LINFOL_Indicador impuestos.xlsx\n",
      "Exportado: ColumnasDuplicadas/RS_LINFOL_Cambio para la determinación de precios.xlsx\n",
      "Exportado: ColumnasDuplicadas/RS_LINFOL_Número de Documento Comercial.xlsx\n",
      "Exportado: ColumnasDuplicadas/RS_LINFOL_Se ha cambiado la descripción.xlsx\n",
      "Exportado: ColumnasDuplicadas/RS_LINFOL_Importe redondeo.xlsx\n",
      "Exportado: ColumnasDuplicadas/RS_LINFOL_Hu.xlsx\n",
      "Exportado: ColumnasDuplicadas/RS_LINFOL_Casilla de selección.xlsx\n",
      "Exportado: ColumnasDuplicadas/RS_PROLIN_Identificador de concepto.xlsx\n",
      "Exportado: ColumnasDuplicadas/RS_PROLIN_Precio 6 decimales precisión.xlsx\n",
      "Exportado: ColumnasDuplicadas/RS_PROLIN_Número de Documento Comercial.xlsx\n",
      "Exportado: ColumnasDuplicadas/RS_PROLIN_Porcentaje cliente comercial.xlsx\n",
      "Exportado: ColumnasDuplicadas/RS_PROLIN_Marca de descuento.xlsx\n"
     ]
    }
   ],
   "source": [
    "# Ejecutamos la función para cada tabla\n",
    "exportar_columnas_duplicadas(fc_folios, \"FC_FOLIOS\")\n",
    "exportar_columnas_duplicadas(rs_linfol, \"RS_LINFOL\")\n",
    "exportar_columnas_duplicadas(rs_prolin, \"RS_PROLIN\")\n"
   ]
  },
  {
   "cell_type": "markdown",
   "id": "75ce5d3c",
   "metadata": {},
   "source": [
    "### **Se exportaron**"
   ]
  },
  {
   "cell_type": "markdown",
   "id": "e3f2069b",
   "metadata": {},
   "source": [
    "# Comparar valor de las columnas"
   ]
  },
  {
   "cell_type": "code",
   "execution_count": 24,
   "id": "ad0053e8",
   "metadata": {},
   "outputs": [],
   "source": [
    "import os\n",
    "import pandas as pd\n",
    "\n",
    "def exportar_columnas_duplicadas_con_verificacion(df, nombre_tabla, carpeta_salida=\"ColumnasDuplicadas_conVerificacion\"):\n",
    "    \"\"\"\n",
    "    Detecta grupos de columnas duplicadas (por nombre base), agrega columna 'Coinciden'\n",
    "    que indica si los valores en la fila son iguales en todas las columnas del grupo,\n",
    "    y exporta un archivo .xlsx por grupo.\n",
    "\n",
    "    :param df: DataFrame a analizar\n",
    "    :param nombre_tabla: Nombre de la tabla (para nombrar archivos)\n",
    "    :param carpeta_salida: Carpeta donde se guardarán los archivos .xlsx\n",
    "    \"\"\"\n",
    "\n",
    "    # Crear carpeta si no existe\n",
    "    if not os.path.exists(carpeta_salida):\n",
    "        os.makedirs(carpeta_salida)\n",
    "\n",
    "    # Contenedor de columnas por nombre base\n",
    "    columnas_por_base = {}\n",
    "\n",
    "    for col in df.columns:\n",
    "        # Separamos por punto: \"Hotel.1\" → [\"Hotel\", \"1\"]\n",
    "        base = col.split('.')[0]\n",
    "        if base not in columnas_por_base:\n",
    "            columnas_por_base[base] = [col]\n",
    "        else:\n",
    "            columnas_por_base[base].append(col)\n",
    "\n",
    "    # Exportar solo los grupos con más de una columna (es decir, duplicados)\n",
    "    for base, cols in columnas_por_base.items():\n",
    "        if len(cols) > 1:\n",
    "            df_grupo = df[cols].copy()\n",
    "\n",
    "            # Función para comparar los valores de cada fila\n",
    "            def comparar_fila(fila):\n",
    "                # Todos NaN → True\n",
    "                if fila.isna().all():\n",
    "                    return True\n",
    "                valores = fila.unique()\n",
    "                return len(valores) == 1\n",
    "\n",
    "            # Añadir columna \"Coinciden\"\n",
    "            df_grupo[\"Coinciden\"] = df_grupo.apply(comparar_fila, axis=1)\n",
    "\n",
    "            # Guardar archivo\n",
    "            nombre_archivo = f\"{nombre_tabla}_{base}.xlsx\"\n",
    "            ruta = os.path.join(carpeta_salida, nombre_archivo)\n",
    "            df_grupo.to_excel(ruta, index=False)\n",
    "            print(f\"Exportado: {ruta}\")\n"
   ]
  },
  {
   "cell_type": "code",
   "execution_count": 25,
   "id": "39c32e49",
   "metadata": {},
   "outputs": [
    {
     "name": "stdout",
     "output_type": "stream",
     "text": [
      "Exportado: ColumnasDuplicadas_conVerificacion/FC_FOLIOS_Indicador impuestos.xlsx\n",
      "Exportado: ColumnasDuplicadas_conVerificacion/FC_FOLIOS_Número de Documento Comercial.xlsx\n",
      "Exportado: ColumnasDuplicadas_conVerificacion/FC_FOLIOS_Impuestos incluidos.xlsx\n",
      "Exportado: ColumnasDuplicadas_conVerificacion/FC_FOLIOS_Se ha cambiado la descripción.xlsx\n",
      "Exportado: ColumnasDuplicadas_conVerificacion/FC_FOLIOS_Clasificación fiscal.xlsx\n",
      "Exportado: ColumnasDuplicadas_conVerificacion/RS_LINFOL_Posición.xlsx\n",
      "Exportado: ColumnasDuplicadas_conVerificacion/RS_LINFOL_Base imponible.xlsx\n",
      "Exportado: ColumnasDuplicadas_conVerificacion/RS_LINFOL_Indicador impuestos.xlsx\n",
      "Exportado: ColumnasDuplicadas_conVerificacion/RS_LINFOL_Cambio para la determinación de precios.xlsx\n",
      "Exportado: ColumnasDuplicadas_conVerificacion/RS_LINFOL_Número de Documento Comercial.xlsx\n",
      "Exportado: ColumnasDuplicadas_conVerificacion/RS_LINFOL_Se ha cambiado la descripción.xlsx\n",
      "Exportado: ColumnasDuplicadas_conVerificacion/RS_LINFOL_Importe redondeo.xlsx\n",
      "Exportado: ColumnasDuplicadas_conVerificacion/RS_LINFOL_Hu.xlsx\n",
      "Exportado: ColumnasDuplicadas_conVerificacion/RS_LINFOL_Casilla de selección.xlsx\n",
      "Exportado: ColumnasDuplicadas_conVerificacion/RS_PROLIN_Identificador de concepto.xlsx\n",
      "Exportado: ColumnasDuplicadas_conVerificacion/RS_PROLIN_Precio 6 decimales precisión.xlsx\n",
      "Exportado: ColumnasDuplicadas_conVerificacion/RS_PROLIN_Número de Documento Comercial.xlsx\n",
      "Exportado: ColumnasDuplicadas_conVerificacion/RS_PROLIN_Porcentaje cliente comercial.xlsx\n",
      "Exportado: ColumnasDuplicadas_conVerificacion/RS_PROLIN_Marca de descuento.xlsx\n"
     ]
    }
   ],
   "source": [
    "# Ejecutamos la función para cada tabla con verificación\n",
    "exportar_columnas_duplicadas_con_verificacion(fc_folios, \"FC_FOLIOS\")\n",
    "exportar_columnas_duplicadas_con_verificacion(rs_linfol, \"RS_LINFOL\")\n",
    "exportar_columnas_duplicadas_con_verificacion(rs_prolin, \"RS_PROLIN\")"
   ]
  },
  {
   "cell_type": "markdown",
   "id": "05046ffd",
   "metadata": {},
   "source": [
    "### **Se exportaron**"
   ]
  },
  {
   "cell_type": "markdown",
   "id": "671eb20f",
   "metadata": {},
   "source": [
    "### Cuántas filas conciden dentro del grupo"
   ]
  },
  {
   "cell_type": "code",
   "execution_count": 29,
   "id": "aa1e8854",
   "metadata": {},
   "outputs": [
    {
     "name": "stdout",
     "output_type": "stream",
     "text": [
      "FC_FOLIOS_Número de Documento Comercial.xlsx: 97.70% (977 True / 1000 filas)\n",
      "RS_LINFOL_Indicador impuestos.xlsx: 0.00% (0 True / 1000 filas)\n",
      "RS_LINFOL_Posición.xlsx: 0.00% (0 True / 1000 filas)\n",
      "RS_PROLIN_Identificador de concepto.xlsx: 0.00% (0 True / 1000 filas)\n",
      "RS_LINFOL_Base imponible.xlsx: 100.00% (1000 True / 1000 filas)\n",
      "FC_FOLIOS_Clasificación fiscal.xlsx: 100.00% (1000 True / 1000 filas)\n",
      "RS_PROLIN_Marca de descuento.xlsx: 100.00% (1000 True / 1000 filas)\n",
      "RS_LINFOL_Casilla de selección.xlsx: 100.00% (1000 True / 1000 filas)\n",
      "RS_LINFOL_Número de Documento Comercial.xlsx: 100.00% (1000 True / 1000 filas)\n",
      "RS_LINFOL_Importe redondeo.xlsx: 100.00% (1000 True / 1000 filas)\n",
      "FC_FOLIOS_Impuestos incluidos.xlsx: 70.90% (709 True / 1000 filas)\n",
      "FC_FOLIOS_Indicador impuestos.xlsx: 0.00% (0 True / 1000 filas)\n",
      "RS_PROLIN_Número de Documento Comercial.xlsx: 100.00% (1000 True / 1000 filas)\n",
      "FC_FOLIOS_Se ha cambiado la descripción.xlsx: 99.50% (995 True / 1000 filas)\n",
      "RS_PROLIN_Precio 6 decimales precisión.xlsx: 0.00% (0 True / 1000 filas)\n",
      "RS_LINFOL_Hu.xlsx: 100.00% (1000 True / 1000 filas)\n",
      "RS_LINFOL_Se ha cambiado la descripción.xlsx: 100.00% (1000 True / 1000 filas)\n",
      "RS_LINFOL_Cambio para la determinación de precios.xlsx: 0.00% (0 True / 1000 filas)\n",
      "RS_PROLIN_Porcentaje cliente comercial.xlsx: 100.00% (1000 True / 1000 filas)\n"
     ]
    }
   ],
   "source": [
    "import os\n",
    "import pandas as pd\n",
    "\n",
    "# Ruta de la carpeta con los archivos verificados\n",
    "carpeta = \"ColumnasDuplicadas_conVerificacion\"\n",
    "\n",
    "# Recorrer todos los archivos .xlsx en la carpeta y calcular el porcentaje de coincidencia\n",
    "resultados = []\n",
    "for archivo in os.listdir(carpeta):\n",
    "    if archivo.endswith(\".xlsx\"):\n",
    "        ruta = os.path.join(carpeta, archivo)\n",
    "        df_temp = pd.read_excel(ruta)\n",
    "        if \"Coinciden\" in df_temp.columns:\n",
    "            total = len(df_temp)\n",
    "            trues = df_temp[\"Coinciden\"].sum()\n",
    "            porcentaje = (trues / total) * 100 if total > 0 else 0\n",
    "            resultados.append({\n",
    "                \"archivo\": archivo,\n",
    "                \"total_filas\": total,\n",
    "                \"Coinciden_True\": trues,\n",
    "                \"Coinciden_False\": total - trues,\n",
    "                \"porcentaje_Coincidencia\": porcentaje\n",
    "            })\n",
    "\n",
    "# Mostrar resultados\n",
    "for r in resultados:\n",
    "    print(f\"{r['archivo']}: {r['porcentaje_Coincidencia']:.2f}% ({r['Coinciden_True']} True / {r['total_filas']} filas)\")\n",
    "\n",
    "# Guardar resultados en un DataFrame y exportar a Excel\n",
    "df_resultados = pd.DataFrame(resultados)\n",
    "df_resultados.to_excel(\"Resultados_Coincidencia.xlsx\", index=False)"
   ]
  },
  {
   "cell_type": "markdown",
   "id": "b676b654",
   "metadata": {},
   "source": [
    "### **10 de 19 tablas son 100% coincidentes**\n",
    "### **6 de 19 tablas son 0% coincidentes** -> Y se debe a que una columna es nulas"
   ]
  },
  {
   "cell_type": "markdown",
   "id": "49ad4081",
   "metadata": {},
   "source": [
    "### DataFrame resumen estructurado"
   ]
  },
  {
   "cell_type": "code",
   "execution_count": 27,
   "id": "89a4dd05",
   "metadata": {},
   "outputs": [],
   "source": [
    "import pandas as pd\n",
    "\n",
    "def generar_resumen_columnas_duplicadas(lista_tablas, nombres_tablas):\n",
    "    \"\"\"\n",
    "    Genera un DataFrame resumen con detalles de las columnas duplicadas.\n",
    "\n",
    "    :param lista_tablas: Lista de DataFrames a analizar.\n",
    "    :param nombres_tablas: Lista de nombres correspondientes a cada DataFrame.\n",
    "    :return: DataFrame resumen consolidado.\n",
    "    \"\"\"\n",
    "    resumen = []  # Aquí guardaremos los diccionarios con la info\n",
    "\n",
    "    for df, nombre_tabla in zip(lista_tablas, nombres_tablas):\n",
    "        columnas_por_base = {}\n",
    "        for col in df.columns:\n",
    "            base = col.split('.')[0]  # Extraer el nombre base, ej. \"Hotel.1\" → \"Hotel\"\n",
    "            columnas_por_base.setdefault(base, []).append(col)\n",
    "\n",
    "        for base, cols in columnas_por_base.items():\n",
    "            if len(cols) > 1:  # Solo nos interesan grupos duplicados\n",
    "                for col in cols:\n",
    "                    tipo = df[col].dtype\n",
    "                    valores = df[col].unique().tolist()\n",
    "                    resumen.append({\n",
    "                        \"nombreTabla\": nombre_tabla,\n",
    "                        \"grupo\": base,\n",
    "                        \"columna\": col,\n",
    "                        \"tipoValor\": str(tipo),\n",
    "                        \"valoresÚnicos\": valores\n",
    "                    })\n",
    "\n",
    "    df_resumen = pd.DataFrame(resumen)\n",
    "    return df_resumen\n"
   ]
  },
  {
   "cell_type": "code",
   "execution_count": 28,
   "id": "18eb7d48",
   "metadata": {},
   "outputs": [
    {
     "name": "stdout",
     "output_type": "stream",
     "text": [
      "  nombreTabla                          grupo                          columna  \\\n",
      "0   fc_folios            Indicador impuestos              Indicador impuestos   \n",
      "1   fc_folios            Indicador impuestos            Indicador impuestos.1   \n",
      "2   fc_folios  Número de Documento Comercial    Número de Documento Comercial   \n",
      "3   fc_folios  Número de Documento Comercial  Número de Documento Comercial.1   \n",
      "4   fc_folios            Impuestos incluidos              Impuestos incluidos   \n",
      "\n",
      "  tipoValor                                      valoresÚnicos  \n",
      "0   float64                                              [nan]  \n",
      "1    object                                       [DB, NS, DC]  \n",
      "2    object  [nan, HDS5A06441, HDS5A06419, HDR5A13603, HDR5...  \n",
      "3    object  [nan, HDS5A06441, HDS5A06419, HDR5A13603, HDR5...  \n",
      "4    object                                           [X, nan]  \n"
     ]
    }
   ],
   "source": [
    "# Lista de DataFrames\n",
    "tablas = [fc_folios, rs_linfol, rs_prolin]\n",
    "nombres = [\"fc_folios\", \"rs_linfol\", \"rs_prolin\"]\n",
    "\n",
    "# Generar el resumen\n",
    "df_resumen = generar_resumen_columnas_duplicadas(tablas, nombres)\n",
    "\n",
    "# Ver los primeros resultados\n",
    "print(df_resumen.head())\n",
    "\n",
    "# (Opcional) Exportar a Excel\n",
    "df_resumen.to_excel(\"Resumen_ColumnasDuplicadas.xlsx\", index=False)\n"
   ]
  },
  {
   "cell_type": "markdown",
   "id": "51719b78",
   "metadata": {},
   "source": [
    "## Conlusiones\n",
    "\n",
    "- Comparación de contenido entre las columnas duplicadas: ¿son idénticas, complementarias o contienen datos diferentes?\n",
    "> Más del **_50%_** de las tablas son **100% Coincidentes**\n",
    "- Indagar si el problema ocurre durante la exportación desde SAP o al cargar el archivo con `pandas`.\n",
    "> Ocurre al cargar el archivo con **`Pandas`**\n",
    "- Documentar los hallazgos con capturas de pantalla o gráficos que ayuden a visualizar mejor las columnas repetidas y su contenido.\n",
    "> Ya xd\n",
    "- Evaluar el impacto de eliminar columnas en el análisis posterior: **¿se pierde información útil?**\n",
    "> En las que hay 100% de Coincidencia: **Negativo** -> **Se procede a eliminación de la columna duplicada**\n",
    "> \n",
    "> En las que hay columna nula: **Negativo** -> **Se procede a eliminación de la columna nula**\n",
    ">\n",
    "> En las que hay discrepancia de algún tipo: **Afirmativo** -> **Se mantienen ambas columnas**"
   ]
  }
 ],
 "metadata": {
  "kernelspec": {
   "display_name": ".venv",
   "language": "python",
   "name": "python3"
  },
  "language_info": {
   "codemirror_mode": {
    "name": "ipython",
    "version": 3
   },
   "file_extension": ".py",
   "mimetype": "text/x-python",
   "name": "python",
   "nbconvert_exporter": "python",
   "pygments_lexer": "ipython3",
   "version": "3.12.3"
  }
 },
 "nbformat": 4,
 "nbformat_minor": 5
}
