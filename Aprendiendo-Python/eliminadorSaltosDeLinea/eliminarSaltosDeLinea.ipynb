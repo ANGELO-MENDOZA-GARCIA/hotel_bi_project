{
 "cells": [
  {
   "cell_type": "markdown",
   "id": "5e715ab3",
   "metadata": {},
   "source": [
    "# Eliminador de Saltos de Linea\n",
    "Que El resultado sea de [texto], [salto de linea], [texto], [salto de linea], [texto]. Si hay más de un salto de línea, que lo elimine\n",
    ">\n",
    "Voy a hacer un script en el que tome los documentos (.docx) en el directorio /input y los pase por un proceso de eliminación\n",
    ">\n",
    "de saltos de línea excesivos para luego finalizar le proceso con el archivo limpio en el directorio /output"
   ]
  },
  {
   "cell_type": "code",
   "execution_count": 25,
   "id": "80dba7b8",
   "metadata": {},
   "outputs": [],
   "source": [
    "import os\n",
    "import docx\n",
    "\n",
    "input_dir = './input'\n",
    "output_dir = './output'\n",
    "\n",
    "def clean_line_breaks(text):\n",
    "    # Replace multiple consecutive line breaks with a single one\n",
    "    lines = [line.strip() for line in text.splitlines() if line.strip()]\n",
    "    return '\\n'.join(lines)\n",
    "\n",
    "for filename in os.listdir(input_dir):\n",
    "    if filename.endswith('.docx'):\n",
    "        doc_path = os.path.join(input_dir, filename)\n",
    "        doc = docx.Document(doc_path)\n",
    "        new_doc = docx.Document()\n",
    "        for para in doc.paragraphs:\n",
    "            cleaned_text = clean_line_breaks(para.text)\n",
    "            if cleaned_text:\n",
    "                new_doc.add_paragraph(cleaned_text)\n",
    "        output_path = os.path.join(output_dir, filename)\n",
    "        new_doc.save(output_path)"
   ]
  }
 ],
 "metadata": {
  "kernelspec": {
   "display_name": ".venv",
   "language": "python",
   "name": "python3"
  },
  "language_info": {
   "codemirror_mode": {
    "name": "ipython",
    "version": 3
   },
   "file_extension": ".py",
   "mimetype": "text/x-python",
   "name": "python",
   "nbconvert_exporter": "python",
   "pygments_lexer": "ipython3",
   "version": "3.12.3"
  }
 },
 "nbformat": 4,
 "nbformat_minor": 5
}
