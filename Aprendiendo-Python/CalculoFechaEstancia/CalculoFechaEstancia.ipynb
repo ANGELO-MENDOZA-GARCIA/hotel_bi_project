{
 "cells": [
  {
   "cell_type": "markdown",
   "id": "61863aac",
   "metadata": {},
   "source": [
    "Agrupar por \"Fecha producción\" y calcular la suma de \"Importe\""
   ]
  },
  {
   "cell_type": "code",
   "execution_count": 29,
   "id": "cf41e4f6",
   "metadata": {},
   "outputs": [],
   "source": [
    "import pandas as pd\n",
    "# Cargar el archivo CSV\n",
    "df = pd.read_excel(\"input/FC_FOLIOS_6_RESERVAS.xlsx\")"
   ]
  },
  {
   "cell_type": "code",
   "execution_count": 30,
   "id": "b8dbe695",
   "metadata": {},
   "outputs": [
    {
     "name": "stdout",
     "output_type": "stream",
     "text": [
      "datetime64[ns]\n",
      "float64\n",
      "object\n",
      "float64\n"
     ]
    }
   ],
   "source": [
    "# Tipo de dato\n",
    "print(df[\"Fecha producción\"].dtype)\n",
    "print(df[\"Precio transaccion\"].dtype)\n",
    "print(df[\"Cambio para la determinación de precios\"].dtype)\n",
    "# Convertir Cambio para la determinación de precios a float64\n",
    "# Es un string con un espacio al inicio\n",
    "# Con una coma como separador decimal\n",
    "df[\"Cambio para la determinación de precios\"] = df[\"Cambio para la determinación de precios\"].str.replace(\" \", \"\").str.replace(\",\", \".\").astype(float)\n",
    "# Verificar el tipo de dato\n",
    "print(df[\"Cambio para la determinación de precios\"].dtype)"
   ]
  },
  {
   "cell_type": "code",
   "execution_count": 31,
   "id": "72811080",
   "metadata": {},
   "outputs": [
    {
     "data": {
      "text/plain": [
       "Fecha producción\n",
       "2025-05-02    40276.422928\n",
       "2025-05-03    41926.422928\n",
       "2025-05-04    40322.293520\n",
       "2025-05-05    67853.717000\n",
       "2025-05-06    -1400.000000\n",
       "2025-05-13    29089.641440\n",
       "Name: Precio_final, dtype: float64"
      ]
     },
     "execution_count": 31,
     "metadata": {},
     "output_type": "execute_result"
    }
   ],
   "source": [
    "df_grouped_mult = (\n",
    "    df.assign(\n",
    "        Precio_final=lambda x: x.apply(\n",
    "            lambda row: row[\"Cantidad\"] * (\n",
    "                row[\"Precio transaccion\"] * row[\"Cambio para la determinación de precios\"]\n",
    "                if row[\"Moneda de la transaccion\"] == \"USD\"\n",
    "                else row[\"Precio transaccion\"]\n",
    "            ),\n",
    "            axis=1\n",
    "        )\n",
    "    )\n",
    "    .groupby(\"Fecha producción\")[\"Precio_final\"]\n",
    "    .sum()\n",
    ")\n",
    "df_grouped_mult"
   ]
  },
  {
   "cell_type": "code",
   "execution_count": 38,
   "id": "c42a2ac6",
   "metadata": {},
   "outputs": [
    {
     "data": {
      "text/plain": [
       "np.float64(218068.49781600002)"
      ]
     },
     "execution_count": 38,
     "metadata": {},
     "output_type": "execute_result"
    }
   ],
   "source": [
    "df_grouped_mult.sum()"
   ]
  }
 ],
 "metadata": {
  "kernelspec": {
   "display_name": ".venv",
   "language": "python",
   "name": "python3"
  },
  "language_info": {
   "codemirror_mode": {
    "name": "ipython",
    "version": 3
   },
   "file_extension": ".py",
   "mimetype": "text/x-python",
   "name": "python",
   "nbconvert_exporter": "python",
   "pygments_lexer": "ipython3",
   "version": "3.12.3"
  }
 },
 "nbformat": 4,
 "nbformat_minor": 5
}
